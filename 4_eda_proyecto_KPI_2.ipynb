{
 "cells": [
  {
   "cell_type": "markdown",
   "id": "db816373",
   "metadata": {},
   "source": [
    "KPI 2: Arquetipo de cliente que contrata productos bancarios.\n",
    "\n",
    "⸻\n",
    "\n",
    "🎯 Objetivo\n",
    "\n",
    "Identificar el perfil demográfico y financiero más representativo de los clientes que sí han contratado un producto (y == True).\n",
    "\n"
   ]
  },
  {
   "cell_type": "code",
   "execution_count": 1,
   "id": "c19cee04",
   "metadata": {},
   "outputs": [
    {
     "data": {
      "text/plain": [
       "<module 'data_cleaning_utils' from '/Users/emmeravivar/Documents/01_MASTER_DATA/Proyecto_4_Eda+Python/data_cleaning_utils.py'>"
      ]
     },
     "execution_count": 1,
     "metadata": {},
     "output_type": "execute_result"
    }
   ],
   "source": [
    "import pandas as pd\n",
    "import importlib\n",
    "import data_cleaning_utils\n",
    "importlib.reload(data_cleaning_utils)"
   ]
  },
  {
   "cell_type": "code",
   "execution_count": 2,
   "id": "96b0e880",
   "metadata": {},
   "outputs": [
    {
     "name": "stdout",
     "output_type": "stream",
     "text": [
      "<class 'pandas.core.frame.DataFrame'>\n",
      "RangeIndex: 39578 entries, 0 to 39577\n",
      "Data columns (total 29 columns):\n",
      " #   Column             Non-Null Count  Dtype         \n",
      "---  ------             --------------  -----         \n",
      " 0   age                39578 non-null  int64         \n",
      " 1   job                39578 non-null  object        \n",
      " 2   marital            39578 non-null  object        \n",
      " 3   education          39578 non-null  object        \n",
      " 4   default            39578 non-null  int64         \n",
      " 5   housing            39578 non-null  int64         \n",
      " 6   loan               39578 non-null  int64         \n",
      " 7   contact            39578 non-null  object        \n",
      " 8   duration           39578 non-null  int64         \n",
      " 9   campaign           39578 non-null  int64         \n",
      " 10  pdays              39578 non-null  int64         \n",
      " 11  previous           39578 non-null  int64         \n",
      " 12  poutcome           39578 non-null  object        \n",
      " 13  emp.var.rate       39578 non-null  float64       \n",
      " 14  cons.price.idx     39578 non-null  float64       \n",
      " 15  cons.conf.idx      39578 non-null  float64       \n",
      " 16  euribor3m          39578 non-null  float64       \n",
      " 17  nr.employed        39578 non-null  float64       \n",
      " 18  y                  39578 non-null  bool          \n",
      " 19  date               39578 non-null  datetime64[ns]\n",
      " 20  latitude           39578 non-null  float64       \n",
      " 21  longitude          39578 non-null  float64       \n",
      " 22  uuid               39578 non-null  object        \n",
      " 23  Income             39578 non-null  int64         \n",
      " 24  Kidhome            39578 non-null  int64         \n",
      " 25  Teenhome           39578 non-null  int64         \n",
      " 26  Dt_Customer        39578 non-null  datetime64[ns]\n",
      " 27  NumWebVisitsMonth  39578 non-null  int64         \n",
      " 28  año                39578 non-null  int64         \n",
      "dtypes: bool(1), datetime64[ns](2), float64(7), int64(13), object(6)\n",
      "memory usage: 8.5+ MB\n"
     ]
    }
   ],
   "source": [
    "# 1 - Cargar el DataFrame\n",
    "df_bank = pd.read_excel(\"data_set_complete.xlsx\")\n",
    "df_bank.info()"
   ]
  },
  {
   "cell_type": "code",
   "execution_count": 8,
   "id": "f6b3de16",
   "metadata": {},
   "outputs": [],
   "source": [
    "# Paso 1 - Crear variable de trabajo consolidada\n",
    "df_arquetipo = df_bank[df_bank['y'] == True].copy()\n",
    "\n",
    "# Paso 2 - Seleccionar columnas relevantes (puedes añadir más si las necesitas luego)\n",
    "columnas_kpi2 = [\n",
    "    'age', 'job', 'marital', 'education',\n",
    "    'housing', 'loan', 'Income', 'Kidhome', 'Teenhome', 'contact'\n",
    "]\n",
    "df_arquetipo = df_arquetipo[columnas_kpi2]\n",
    "\n",
    "# Paso 3 - Añadir columnas derivadas\n",
    "df_arquetipo['children'] = df_arquetipo['Kidhome'] + df_arquetipo['Teenhome']\n",
    "df_arquetipo['has_children'] = df_arquetipo['children'].apply(lambda x: 1 if x > 0 else 0)"
   ]
  },
  {
   "cell_type": "code",
   "execution_count": 9,
   "id": "b9423f2f",
   "metadata": {},
   "outputs": [
    {
     "name": "stdout",
     "output_type": "stream",
     "text": [
      "📊 Análisis de la variable numérica: age\n",
      "--------------------------------------------------\n",
      "Media: 39.04\n",
      "Mediana: 38.00\n",
      "Desviación estándar: 10.57\n",
      "Valor mínimo: 18\n",
      "Valor máximo: 70\n",
      "Percentil 25: 31.0\n",
      "Percentil 50 (mediana): 38.0\n",
      "Percentil 75: 45.0\n",
      "--------------------------------------------------\n",
      "\n",
      "📊 Análisis de la variable numérica: Income\n",
      "--------------------------------------------------\n",
      "Media: 92500.14\n",
      "Mediana: 92312.00\n",
      "Desviación estándar: 50345.93\n",
      "Valor mínimo: 5841\n",
      "Valor máximo: 180791\n",
      "Percentil 25: 49464.75\n",
      "Percentil 50 (mediana): 92312.0\n",
      "Percentil 75: 134428.5\n",
      "--------------------------------------------------\n",
      "\n"
     ]
    }
   ],
   "source": [
    "# Llamada a la función con la variable 'age' e 'Income\n",
    "data_cleaning_utils.resumen_variable_numerica(df_arquetipo, 'age')\n",
    "data_cleaning_utils.resumen_variable_numerica(df_arquetipo, 'Income')"
   ]
  },
  {
   "cell_type": "code",
   "execution_count": 11,
   "id": "42ba4bed",
   "metadata": {},
   "outputs": [
    {
     "name": "stdout",
     "output_type": "stream",
     "text": [
      "\n",
      "📊 Análisis de la variable categórica: job\n",
      "--------------------------------------------------\n"
     ]
    },
    {
     "data": {
      "text/html": [
       "<div>\n",
       "<style scoped>\n",
       "    .dataframe tbody tr th:only-of-type {\n",
       "        vertical-align: middle;\n",
       "    }\n",
       "\n",
       "    .dataframe tbody tr th {\n",
       "        vertical-align: top;\n",
       "    }\n",
       "\n",
       "    .dataframe thead th {\n",
       "        text-align: right;\n",
       "    }\n",
       "</style>\n",
       "<table border=\"1\" class=\"dataframe\">\n",
       "  <thead>\n",
       "    <tr style=\"text-align: right;\">\n",
       "      <th></th>\n",
       "      <th>Frecuencia</th>\n",
       "      <th>Porcentaje (%)</th>\n",
       "    </tr>\n",
       "    <tr>\n",
       "      <th>job</th>\n",
       "      <th></th>\n",
       "      <th></th>\n",
       "    </tr>\n",
       "  </thead>\n",
       "  <tbody>\n",
       "    <tr>\n",
       "      <th>admin.</th>\n",
       "      <td>1341</td>\n",
       "      <td>31.29</td>\n",
       "    </tr>\n",
       "    <tr>\n",
       "      <th>technician</th>\n",
       "      <td>714</td>\n",
       "      <td>16.66</td>\n",
       "    </tr>\n",
       "    <tr>\n",
       "      <th>blue-collar</th>\n",
       "      <td>621</td>\n",
       "      <td>14.49</td>\n",
       "    </tr>\n",
       "    <tr>\n",
       "      <th>management</th>\n",
       "      <td>316</td>\n",
       "      <td>7.37</td>\n",
       "    </tr>\n",
       "    <tr>\n",
       "      <th>services</th>\n",
       "      <td>307</td>\n",
       "      <td>7.16</td>\n",
       "    </tr>\n",
       "    <tr>\n",
       "      <th>retired</th>\n",
       "      <td>262</td>\n",
       "      <td>6.11</td>\n",
       "    </tr>\n",
       "    <tr>\n",
       "      <th>student</th>\n",
       "      <td>213</td>\n",
       "      <td>4.97</td>\n",
       "    </tr>\n",
       "    <tr>\n",
       "      <th>self-employed</th>\n",
       "      <td>157</td>\n",
       "      <td>3.66</td>\n",
       "    </tr>\n",
       "    <tr>\n",
       "      <th>unemployed</th>\n",
       "      <td>146</td>\n",
       "      <td>3.41</td>\n",
       "    </tr>\n",
       "    <tr>\n",
       "      <th>entrepreneur</th>\n",
       "      <td>117</td>\n",
       "      <td>2.73</td>\n",
       "    </tr>\n",
       "    <tr>\n",
       "      <th>housemaid</th>\n",
       "      <td>92</td>\n",
       "      <td>2.15</td>\n",
       "    </tr>\n",
       "  </tbody>\n",
       "</table>\n",
       "</div>"
      ],
      "text/plain": [
       "               Frecuencia  Porcentaje (%)\n",
       "job                                      \n",
       "admin.               1341           31.29\n",
       "technician            714           16.66\n",
       "blue-collar           621           14.49\n",
       "management            316            7.37\n",
       "services              307            7.16\n",
       "retired               262            6.11\n",
       "student               213            4.97\n",
       "self-employed         157            3.66\n",
       "unemployed            146            3.41\n",
       "entrepreneur          117            2.73\n",
       "housemaid              92            2.15"
      ]
     },
     "metadata": {},
     "output_type": "display_data"
    },
    {
     "name": "stdout",
     "output_type": "stream",
     "text": [
      "🎯 Valor más común (moda): admin.\n",
      "--------------------------------------------------\n",
      "\n",
      "📊 Análisis de la variable categórica: marital\n",
      "--------------------------------------------------\n"
     ]
    },
    {
     "data": {
      "text/html": [
       "<div>\n",
       "<style scoped>\n",
       "    .dataframe tbody tr th:only-of-type {\n",
       "        vertical-align: middle;\n",
       "    }\n",
       "\n",
       "    .dataframe tbody tr th {\n",
       "        vertical-align: top;\n",
       "    }\n",
       "\n",
       "    .dataframe thead th {\n",
       "        text-align: right;\n",
       "    }\n",
       "</style>\n",
       "<table border=\"1\" class=\"dataframe\">\n",
       "  <thead>\n",
       "    <tr style=\"text-align: right;\">\n",
       "      <th></th>\n",
       "      <th>Frecuencia</th>\n",
       "      <th>Porcentaje (%)</th>\n",
       "    </tr>\n",
       "    <tr>\n",
       "      <th>marital</th>\n",
       "      <th></th>\n",
       "      <th></th>\n",
       "    </tr>\n",
       "  </thead>\n",
       "  <tbody>\n",
       "    <tr>\n",
       "      <th>married</th>\n",
       "      <td>2348</td>\n",
       "      <td>54.78</td>\n",
       "    </tr>\n",
       "    <tr>\n",
       "      <th>single</th>\n",
       "      <td>1525</td>\n",
       "      <td>35.58</td>\n",
       "    </tr>\n",
       "    <tr>\n",
       "      <th>divorced</th>\n",
       "      <td>413</td>\n",
       "      <td>9.64</td>\n",
       "    </tr>\n",
       "  </tbody>\n",
       "</table>\n",
       "</div>"
      ],
      "text/plain": [
       "          Frecuencia  Porcentaje (%)\n",
       "marital                             \n",
       "married         2348           54.78\n",
       "single          1525           35.58\n",
       "divorced         413            9.64"
      ]
     },
     "metadata": {},
     "output_type": "display_data"
    },
    {
     "name": "stdout",
     "output_type": "stream",
     "text": [
      "🎯 Valor más común (moda): married\n",
      "--------------------------------------------------\n",
      "\n",
      "📊 Análisis de la variable categórica: education\n",
      "--------------------------------------------------\n"
     ]
    },
    {
     "data": {
      "text/html": [
       "<div>\n",
       "<style scoped>\n",
       "    .dataframe tbody tr th:only-of-type {\n",
       "        vertical-align: middle;\n",
       "    }\n",
       "\n",
       "    .dataframe tbody tr th {\n",
       "        vertical-align: top;\n",
       "    }\n",
       "\n",
       "    .dataframe thead th {\n",
       "        text-align: right;\n",
       "    }\n",
       "</style>\n",
       "<table border=\"1\" class=\"dataframe\">\n",
       "  <thead>\n",
       "    <tr style=\"text-align: right;\">\n",
       "      <th></th>\n",
       "      <th>Frecuencia</th>\n",
       "      <th>Porcentaje (%)</th>\n",
       "    </tr>\n",
       "    <tr>\n",
       "      <th>education</th>\n",
       "      <th></th>\n",
       "      <th></th>\n",
       "    </tr>\n",
       "  </thead>\n",
       "  <tbody>\n",
       "    <tr>\n",
       "      <th>university degree</th>\n",
       "      <td>1676</td>\n",
       "      <td>39.10</td>\n",
       "    </tr>\n",
       "    <tr>\n",
       "      <th>high school</th>\n",
       "      <td>1043</td>\n",
       "      <td>24.34</td>\n",
       "    </tr>\n",
       "    <tr>\n",
       "      <th>basic education</th>\n",
       "      <td>980</td>\n",
       "      <td>22.87</td>\n",
       "    </tr>\n",
       "    <tr>\n",
       "      <th>professional training</th>\n",
       "      <td>584</td>\n",
       "      <td>13.63</td>\n",
       "    </tr>\n",
       "    <tr>\n",
       "      <th>illiterate</th>\n",
       "      <td>3</td>\n",
       "      <td>0.07</td>\n",
       "    </tr>\n",
       "  </tbody>\n",
       "</table>\n",
       "</div>"
      ],
      "text/plain": [
       "                       Frecuencia  Porcentaje (%)\n",
       "education                                        \n",
       "university degree            1676           39.10\n",
       "high school                  1043           24.34\n",
       "basic education               980           22.87\n",
       "professional training         584           13.63\n",
       "illiterate                      3            0.07"
      ]
     },
     "metadata": {},
     "output_type": "display_data"
    },
    {
     "name": "stdout",
     "output_type": "stream",
     "text": [
      "🎯 Valor más común (moda): university degree\n",
      "--------------------------------------------------\n",
      "\n",
      "📊 Análisis de la variable categórica: housing\n",
      "--------------------------------------------------\n"
     ]
    },
    {
     "data": {
      "text/html": [
       "<div>\n",
       "<style scoped>\n",
       "    .dataframe tbody tr th:only-of-type {\n",
       "        vertical-align: middle;\n",
       "    }\n",
       "\n",
       "    .dataframe tbody tr th {\n",
       "        vertical-align: top;\n",
       "    }\n",
       "\n",
       "    .dataframe thead th {\n",
       "        text-align: right;\n",
       "    }\n",
       "</style>\n",
       "<table border=\"1\" class=\"dataframe\">\n",
       "  <thead>\n",
       "    <tr style=\"text-align: right;\">\n",
       "      <th></th>\n",
       "      <th>Frecuencia</th>\n",
       "      <th>Porcentaje (%)</th>\n",
       "    </tr>\n",
       "    <tr>\n",
       "      <th>housing</th>\n",
       "      <th></th>\n",
       "      <th></th>\n",
       "    </tr>\n",
       "  </thead>\n",
       "  <tbody>\n",
       "    <tr>\n",
       "      <th>1</th>\n",
       "      <td>2361</td>\n",
       "      <td>55.09</td>\n",
       "    </tr>\n",
       "    <tr>\n",
       "      <th>0</th>\n",
       "      <td>1925</td>\n",
       "      <td>44.91</td>\n",
       "    </tr>\n",
       "  </tbody>\n",
       "</table>\n",
       "</div>"
      ],
      "text/plain": [
       "         Frecuencia  Porcentaje (%)\n",
       "housing                            \n",
       "1              2361           55.09\n",
       "0              1925           44.91"
      ]
     },
     "metadata": {},
     "output_type": "display_data"
    },
    {
     "name": "stdout",
     "output_type": "stream",
     "text": [
      "🎯 Valor más común (moda): 1\n",
      "--------------------------------------------------\n",
      "\n",
      "📊 Análisis de la variable categórica: loan\n",
      "--------------------------------------------------\n"
     ]
    },
    {
     "data": {
      "text/html": [
       "<div>\n",
       "<style scoped>\n",
       "    .dataframe tbody tr th:only-of-type {\n",
       "        vertical-align: middle;\n",
       "    }\n",
       "\n",
       "    .dataframe tbody tr th {\n",
       "        vertical-align: top;\n",
       "    }\n",
       "\n",
       "    .dataframe thead th {\n",
       "        text-align: right;\n",
       "    }\n",
       "</style>\n",
       "<table border=\"1\" class=\"dataframe\">\n",
       "  <thead>\n",
       "    <tr style=\"text-align: right;\">\n",
       "      <th></th>\n",
       "      <th>Frecuencia</th>\n",
       "      <th>Porcentaje (%)</th>\n",
       "    </tr>\n",
       "    <tr>\n",
       "      <th>loan</th>\n",
       "      <th></th>\n",
       "      <th></th>\n",
       "    </tr>\n",
       "  </thead>\n",
       "  <tbody>\n",
       "    <tr>\n",
       "      <th>0</th>\n",
       "      <td>3645</td>\n",
       "      <td>85.04</td>\n",
       "    </tr>\n",
       "    <tr>\n",
       "      <th>1</th>\n",
       "      <td>641</td>\n",
       "      <td>14.96</td>\n",
       "    </tr>\n",
       "  </tbody>\n",
       "</table>\n",
       "</div>"
      ],
      "text/plain": [
       "      Frecuencia  Porcentaje (%)\n",
       "loan                            \n",
       "0           3645           85.04\n",
       "1            641           14.96"
      ]
     },
     "metadata": {},
     "output_type": "display_data"
    },
    {
     "name": "stdout",
     "output_type": "stream",
     "text": [
      "🎯 Valor más común (moda): 0\n",
      "--------------------------------------------------\n",
      "\n",
      "📊 Análisis de la variable categórica: contact\n",
      "--------------------------------------------------\n"
     ]
    },
    {
     "data": {
      "text/html": [
       "<div>\n",
       "<style scoped>\n",
       "    .dataframe tbody tr th:only-of-type {\n",
       "        vertical-align: middle;\n",
       "    }\n",
       "\n",
       "    .dataframe tbody tr th {\n",
       "        vertical-align: top;\n",
       "    }\n",
       "\n",
       "    .dataframe thead th {\n",
       "        text-align: right;\n",
       "    }\n",
       "</style>\n",
       "<table border=\"1\" class=\"dataframe\">\n",
       "  <thead>\n",
       "    <tr style=\"text-align: right;\">\n",
       "      <th></th>\n",
       "      <th>Frecuencia</th>\n",
       "      <th>Porcentaje (%)</th>\n",
       "    </tr>\n",
       "    <tr>\n",
       "      <th>contact</th>\n",
       "      <th></th>\n",
       "      <th></th>\n",
       "    </tr>\n",
       "  </thead>\n",
       "  <tbody>\n",
       "    <tr>\n",
       "      <th>cellular</th>\n",
       "      <td>3560</td>\n",
       "      <td>83.06</td>\n",
       "    </tr>\n",
       "    <tr>\n",
       "      <th>telephone</th>\n",
       "      <td>726</td>\n",
       "      <td>16.94</td>\n",
       "    </tr>\n",
       "  </tbody>\n",
       "</table>\n",
       "</div>"
      ],
      "text/plain": [
       "           Frecuencia  Porcentaje (%)\n",
       "contact                              \n",
       "cellular         3560           83.06\n",
       "telephone         726           16.94"
      ]
     },
     "metadata": {},
     "output_type": "display_data"
    },
    {
     "name": "stdout",
     "output_type": "stream",
     "text": [
      "🎯 Valor más común (moda): cellular\n",
      "--------------------------------------------------\n"
     ]
    }
   ],
   "source": [
    "data_cleaning_utils.resumen_variable_categorica(df_arquetipo, 'job')\n",
    "data_cleaning_utils.resumen_variable_categorica(df_arquetipo, 'marital')\n",
    "data_cleaning_utils.resumen_variable_categorica(df_arquetipo, 'education')\n",
    "data_cleaning_utils.resumen_variable_categorica(df_arquetipo, 'housing')\n",
    "data_cleaning_utils.resumen_variable_categorica(df_arquetipo, 'loan')\n",
    "data_cleaning_utils.resumen_variable_categorica(df_arquetipo, 'contact')"
   ]
  },
  {
   "cell_type": "markdown",
   "id": "f0b17878",
   "metadata": {},
   "source": [
    "🧩 Resumen del arquetipo completo (KPI 2)\n",
    "\n",
    "El cliente que contrata productos bancarios tiene una media de 39 años, ingresos cercanos a 92.000 € anuales, está casado, tiene estudios universitarios, trabaja en administración, tiene hipoteca, no tiene préstamo personal, tiene hijos y fue contactado por teléfono móvil."
   ]
  }
 ],
 "metadata": {
  "kernelspec": {
   "display_name": "venv",
   "language": "python",
   "name": "python3"
  },
  "language_info": {
   "codemirror_mode": {
    "name": "ipython",
    "version": 3
   },
   "file_extension": ".py",
   "mimetype": "text/x-python",
   "name": "python",
   "nbconvert_exporter": "python",
   "pygments_lexer": "ipython3",
   "version": "3.13.5"
  }
 },
 "nbformat": 4,
 "nbformat_minor": 5
}
