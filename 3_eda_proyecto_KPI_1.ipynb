{
 "cells": [
  {
   "cell_type": "markdown",
   "id": "db816373",
   "metadata": {},
   "source": [
    "🧭 KPI 1 — Promedio de contactos necesarios para que un cliente se suscriba\n",
    "\n",
    "⸻\n",
    "\n",
    "🎯 Objetivo\n",
    "\n",
    "Calcular cuántos contactos (llamadas telefónicas) de media necesita el banco para lograr que un cliente diga “sí” a una campaña de suscripción (depósito a plazo).\n",
    "\n"
   ]
  },
  {
   "cell_type": "code",
   "execution_count": null,
   "id": "c19cee04",
   "metadata": {},
   "outputs": [],
   "source": [
    "import pandas as pd"
   ]
  },
  {
   "cell_type": "code",
   "execution_count": 14,
   "id": "96b0e880",
   "metadata": {},
   "outputs": [
    {
     "name": "stdout",
     "output_type": "stream",
     "text": [
      "<class 'pandas.core.frame.DataFrame'>\n",
      "RangeIndex: 39578 entries, 0 to 39577\n",
      "Data columns (total 29 columns):\n",
      " #   Column             Non-Null Count  Dtype         \n",
      "---  ------             --------------  -----         \n",
      " 0   age                39578 non-null  int64         \n",
      " 1   job                39578 non-null  object        \n",
      " 2   marital            39578 non-null  object        \n",
      " 3   education          39578 non-null  object        \n",
      " 4   default            39578 non-null  int64         \n",
      " 5   housing            39578 non-null  int64         \n",
      " 6   loan               39578 non-null  int64         \n",
      " 7   contact            39578 non-null  object        \n",
      " 8   duration           39578 non-null  int64         \n",
      " 9   campaign           39578 non-null  int64         \n",
      " 10  pdays              39578 non-null  int64         \n",
      " 11  previous           39578 non-null  int64         \n",
      " 12  poutcome           39578 non-null  object        \n",
      " 13  emp.var.rate       39578 non-null  float64       \n",
      " 14  cons.price.idx     39578 non-null  float64       \n",
      " 15  cons.conf.idx      39578 non-null  float64       \n",
      " 16  euribor3m          39578 non-null  float64       \n",
      " 17  nr.employed        39578 non-null  float64       \n",
      " 18  y                  39578 non-null  bool          \n",
      " 19  date               39578 non-null  datetime64[ns]\n",
      " 20  latitude           39578 non-null  float64       \n",
      " 21  longitude          39578 non-null  float64       \n",
      " 22  uuid               39578 non-null  object        \n",
      " 23  Income             39578 non-null  int64         \n",
      " 24  Kidhome            39578 non-null  int64         \n",
      " 25  Teenhome           39578 non-null  int64         \n",
      " 26  Dt_Customer        39578 non-null  datetime64[ns]\n",
      " 27  NumWebVisitsMonth  39578 non-null  int64         \n",
      " 28  año                39578 non-null  int64         \n",
      "dtypes: bool(1), datetime64[ns](2), float64(7), int64(13), object(6)\n",
      "memory usage: 8.5+ MB\n"
     ]
    }
   ],
   "source": [
    "# 1 - Cargar el DataFrame\n",
    "df_bank = pd.read_excel(\"data_set_complete.xlsx\")\n",
    "df_bank.info()"
   ]
  },
  {
   "cell_type": "code",
   "execution_count": null,
   "id": "38f708c1",
   "metadata": {},
   "outputs": [],
   "source": [
    "# 2- Filtrar solo clientes que se suscribieron (y == True)\n",
    "df_subs = df_bank[df_bank['y'] == True].copy()"
   ]
  },
  {
   "cell_type": "code",
   "execution_count": 16,
   "id": "0b61f3d0",
   "metadata": {},
   "outputs": [],
   "source": [
    "# Calcular media de la columna 'campaign' para suscriptores\n",
    "promedio_contactos = df_subs['campaign'].mean()"
   ]
  },
  {
   "cell_type": "code",
   "execution_count": 17,
   "id": "9526d34e",
   "metadata": {},
   "outputs": [
    {
     "name": "stdout",
     "output_type": "stream",
     "text": [
      "📞 Promedio de contactos para lograr una suscripción: 2.06\n"
     ]
    }
   ],
   "source": [
    "# Mostrar resultado\n",
    "print(f\"📞 Promedio de contactos para lograr una suscripción: {promedio_contactos:.2f}\")"
   ]
  },
  {
   "cell_type": "code",
   "execution_count": 19,
   "id": "79bdd7d2",
   "metadata": {},
   "outputs": [
    {
     "name": "stdout",
     "output_type": "stream",
     "text": [
      "📞 Clientes suscritos con 2 llamada: 1126\n",
      "💳 Con préstamo personal: 16.25%\n",
      "🏠 Con hipoteca: 55.42%\n",
      "🆕 Sin productos financieros previos: 38.28%\n"
     ]
    }
   ],
   "source": [
    "# Clientes que se suscribieron con solo 2 contacto\n",
    "df_1llamada = df_subs[(df_subs['y'] == True) & (df_subs['campaign'] == 2)].copy()\n",
    "total = len(df_1llamada)\n",
    "\n",
    "\n",
    "# Porcentajes por condición financiera\n",
    "porcentaje_prestamo = (df_1llamada['loan'] == 1).sum() / total * 100\n",
    "porcentaje_hipoteca = (df_1llamada['housing'] == 1).sum() / total * 100\n",
    "porcentaje_limpios = ((df_1llamada['loan'] == 0) & \n",
    "                      (df_1llamada['housing'] == 0)).sum() / total * 100\n",
    "                    \n",
    "\n",
    "# Mostrar resultados\n",
    "print(f\"📞 Clientes suscritos con 2 llamada: {total}\")\n",
    "print(f\"💳 Con préstamo personal: {porcentaje_prestamo:.2f}%\")\n",
    "print(f\"🏠 Con hipoteca: {porcentaje_hipoteca:.2f}%\")\n",
    "print(f\"🆕 Sin productos financieros previos: {porcentaje_limpios:.2f}%\")"
   ]
  },
  {
   "cell_type": "code",
   "execution_count": 20,
   "id": "a9dd86ee",
   "metadata": {},
   "outputs": [
    {
     "name": "stdout",
     "output_type": "stream",
     "text": [
      "📞 Clientes suscritos con 1 llamada: 2092\n",
      "💳 Con préstamo personal: 14.67%\n",
      "🏠 Con hipoteca: 54.88%\n",
      "🆕 Sin productos financieros previos: 39.05%\n"
     ]
    }
   ],
   "source": [
    "# Clientes que se suscribieron con solo 1 contacto\n",
    "df_1llamada = df_subs[(df_subs['y'] == True) & (df_subs['campaign'] == 1)].copy()\n",
    "total = len(df_1llamada)\n",
    "\n",
    "\n",
    "# Porcentajes por condición financiera\n",
    "porcentaje_prestamo = (df_1llamada['loan'] == 1).sum() / total * 100\n",
    "porcentaje_hipoteca = (df_1llamada['housing'] == 1).sum() / total * 100\n",
    "porcentaje_limpios = ((df_1llamada['loan'] == 0) & \n",
    "                      (df_1llamada['housing'] == 0)).sum() / total * 100\n",
    "                    \n",
    "\n",
    "# Mostrar resultados\n",
    "print(f\"📞 Clientes suscritos con 1 llamada: {total}\")\n",
    "print(f\"💳 Con préstamo personal: {porcentaje_prestamo:.2f}%\")\n",
    "print(f\"🏠 Con hipoteca: {porcentaje_hipoteca:.2f}%\")\n",
    "print(f\"🆕 Sin productos financieros previos: {porcentaje_limpios:.2f}%\")"
   ]
  },
  {
   "cell_type": "code",
   "execution_count": 21,
   "id": "336d0edb",
   "metadata": {},
   "outputs": [
    {
     "name": "stdout",
     "output_type": "stream",
     "text": [
      "📞 Clientes suscritos con 3 o + llamada: 1068\n",
      "💳 Con préstamo personal: 14.14%\n",
      "🏠 Con hipoteca: 55.15%\n",
      "🆕 Sin productos financieros previos: 39.04%\n"
     ]
    }
   ],
   "source": [
    "# Clientes que se suscribieron con 3 o + contacto\n",
    "df_1llamada = df_subs[(df_subs['y'] == True) & (df_subs['campaign'] >= 3)].copy()\n",
    "total = len(df_1llamada)\n",
    "\n",
    "\n",
    "# Porcentajes por condición financiera\n",
    "porcentaje_prestamo = (df_1llamada['loan'] == 1).sum() / total * 100\n",
    "porcentaje_hipoteca = (df_1llamada['housing'] == 1).sum() / total * 100\n",
    "porcentaje_limpios = ((df_1llamada['loan'] == 0) & \n",
    "                      (df_1llamada['housing'] == 0)).sum() / total * 100\n",
    "                    \n",
    "\n",
    "# Mostrar resultados\n",
    "print(f\"📞 Clientes suscritos con 3 o + llamada: {total}\")\n",
    "print(f\"💳 Con préstamo personal: {porcentaje_prestamo:.2f}%\")\n",
    "print(f\"🏠 Con hipoteca: {porcentaje_hipoteca:.2f}%\")\n",
    "print(f\"🆕 Sin productos financieros previos: {porcentaje_limpios:.2f}%\")"
   ]
  },
  {
   "cell_type": "markdown",
   "id": "0ec37ab5",
   "metadata": {},
   "source": [
    "🔍 Insight KPI 1 — Promedio de contactos necesarios para lograr una suscripción\n",
    "\n",
    "Los clientes que finalmente se suscriben requieren, en promedio, 2.06 contactos para tomar una decisión.\n",
    "\n",
    "Este dato sugiere una alta eficacia de la campaña: con apenas un par de interacciones, el cliente medio ya responde positivamente.\n",
    "\n",
    "La baja cantidad de contactos necesarios implica que la estrategia de comunicación es eficiente y directa, reduciendo costes y mejorando la conversión en fases tempranas del funnel.\n",
    "\n",
    "El perfil financiero de los clientes no cambia significativamente según el número de contactos necesarios: en todos los grupos, alrededor del 55 % ya tiene hipoteca y un ~14 % préstamo personal, mientras que el ~39 % no tiene productos financieros.\n",
    "\n",
    "Esto sugiere que la receptividad a la campaña no está fuertemente condicionada por el nivel de vinculación previa. Por tanto, incrementar el número de llamadas no modifica el perfil financiero del cliente, lo que puede cuestionar la eficiencia de campañas prolongadas."
   ]
  }
 ],
 "metadata": {
  "kernelspec": {
   "display_name": "venv",
   "language": "python",
   "name": "python3"
  },
  "language_info": {
   "codemirror_mode": {
    "name": "ipython",
    "version": 3
   },
   "file_extension": ".py",
   "mimetype": "text/x-python",
   "name": "python",
   "nbconvert_exporter": "python",
   "pygments_lexer": "ipython3",
   "version": "3.13.5"
  }
 },
 "nbformat": 4,
 "nbformat_minor": 5
}
